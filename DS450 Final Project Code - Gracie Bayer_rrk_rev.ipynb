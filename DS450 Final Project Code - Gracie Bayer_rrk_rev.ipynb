{
 "cells": [
  {
   "cell_type": "code",
   "execution_count": 29,
   "id": "77f795ef",
   "metadata": {},
   "outputs": [],
   "source": [
    "import os\n",
    "import pandas as pd\n",
    "import numpy as np\n",
    "import matplotlib.pyplot as plt\n",
    "import PIL\n",
    "from PIL import Image"
   ]
  },
  {
   "cell_type": "code",
   "execution_count": 30,
   "id": "774ad5b8",
   "metadata": {},
   "outputs": [],
   "source": [
    "directory = '.'"
   ]
  },
  {
   "cell_type": "code",
   "execution_count": 37,
   "id": "5b243dd9",
   "metadata": {},
   "outputs": [],
   "source": [
    "# This function wi\n",
    "def get_directory_info(directory):\n",
    "    sizes = list()\n",
    "    widths = []\n",
    "    heights = []\n",
    "    \n",
    "    for filename in os.listdir(directory):\n",
    "        f = os.path.join(directory, filename)\n",
    "        if os.path.isfile(f):\n",
    "            if(f.endswith(\".jpg\")):\n",
    "               size = round(os.path.getsize(f)/1023) #This will convert the size to kilobytes\n",
    "               sizes.append(size)\n",
    "                \n",
    "               img_path = os.path.join(f) # Making image file path\n",
    "               im = Image.open(img_path)\n",
    "               widths.append(im.size[0])\n",
    "               heights.append(im.size[1])\n",
    "\n",
    "            \n",
    "    AVG_HEIGHT = round(sum(heights)/len(heights))\n",
    "    AVG_WIDTH = round(sum(widths)/len(widths))\n",
    "    \n",
    "    return (np.mean(sizes), np.max(sizes), np.min(sizes), np.std(sizes), AVG_HEIGHT, AVG_WIDTH) # will return the basic stats for the directory"
   ]
  },
  {
   "cell_type": "code",
   "execution_count": 39,
   "id": "61518afa",
   "metadata": {},
   "outputs": [],
   "source": [
    "m1, m2, m3, s, w, h = get_directory_info(directory)"
   ]
  },
  {
   "cell_type": "code",
   "execution_count": 41,
   "id": "15a030b3-4edd-42e8-b575-d5172e5e3705",
   "metadata": {},
   "outputs": [
    {
     "name": "stdout",
     "output_type": "stream",
     "text": [
      "61.77777777777778 138 29 37.846995412164425 574 589\n"
     ]
    }
   ],
   "source": [
    "print(m1, m2, m3, s, w, h)"
   ]
  }
 ],
 "metadata": {
  "kernelspec": {
   "display_name": "Python 3 (ipykernel)",
   "language": "python",
   "name": "python3"
  },
  "language_info": {
   "codemirror_mode": {
    "name": "ipython",
    "version": 3
   },
   "file_extension": ".py",
   "mimetype": "text/x-python",
   "name": "python",
   "nbconvert_exporter": "python",
   "pygments_lexer": "ipython3",
   "version": "3.9.12"
  }
 },
 "nbformat": 4,
 "nbformat_minor": 5
}
